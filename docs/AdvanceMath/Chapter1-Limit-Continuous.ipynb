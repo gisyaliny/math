{
 "cells": [
  {
   "cell_type": "markdown",
   "metadata": {},
   "source": [
    "# Limit\n",
    "## Domain of functions\n",
    "\n",
    "a. Denominator cannot be 0\n",
    "   i. The domain of $f(x) = \\frac{1}{\\sqrt{x^2 - 9}} \\to x < -3 \\land x > 3$\n",
    "\n",
    "b. Roots of even squared are **greater than or equal to** 0\n",
    "\n",
    "c. The number of logarithm is greater than 0 ($\\ln x \\to x > 0$)\n",
    "\n",
    "d. Arcsin $x$ and Arccos $x \\to x \\leq 1$\n"
   ]
  },
  {
   "cell_type": "markdown",
   "metadata": {},
   "source": [
    "### The equivalent of functions\n",
    "**The same domain and the same mapping**\n",
    "\n",
    "i. $f(x) = \\ln(x - 1) \\neq g(x) = \\ln\\sqrt{(x - 1)^2}$\n",
    "\n",
    "ii. $f(x) = \\frac{x}{x} \\neq g(x) = 1$\n",
    "\n",
    "iii. $f(x) = \\sqrt{x^2} = g(x) = |x|$\n",
    "\n",
    "iv. $f(x) = \n",
    "\\begin{cases} \n",
    "-x, & x \\geq 1 \\\\ \n",
    "1, & x < 1 \n",
    "\\end{cases} \n",
    "\\neq \n",
    "g(x) = \n",
    "\\begin{cases} \n",
    "0, & x = 1 \\\\ \n",
    "1, & x < 1 \n",
    "\\end{cases}$"
   ]
  },
  {
   "cell_type": "markdown",
   "metadata": {},
   "source": [
    "### The definition of limit\n",
    "\n",
    "Let $f(x)$ be a function defined on an interval that contains $x = a$, except possibly at $x = a$. Then we say that,\n",
    "\n",
    "$$\n",
    "\\lim_{x \\to a} f(x) = L\n",
    "$$\n",
    "\n",
    "if for every number $\\epsilon > 0$ there is some number $\\delta > 0$ such that\n",
    "\n",
    "$$\n",
    "|f(x) - L| < \\epsilon \\quad \\text{whenever} \\quad 0 < |x - a| < \\delta\n",
    "$$\n"
   ]
  },
  {
   "cell_type": "markdown",
   "metadata": {},
   "source": [
    "## Solve the limit Problem\n",
    "### Substitute Directly\n",
    "\n",
    "### L'Hopital's Law\n",
    "\n",
    "\n",
    "i. Infinity to infinity\n",
    "\n",
    "ii. Infinity small to infinity small\n",
    "\n",
    "\n",
    "$$\n",
    "\\lim_{x \\to 1} \\frac{x - 1}{x^2 - 1} = \\lim_{x \\to 1} \\frac{1}{2x} = \\frac{1}{2}\n",
    "$$"
   ]
  },
  {
   "cell_type": "markdown",
   "metadata": {},
   "source": [
    "### The Property of infinity (∞) and infinity small (0)\n",
    "\n",
    "The product of infinity small with **bounded function** (e.g., $\\sin x $, $\\cos x $, $\\arctan x $, $arccot x $) is infinity small.\n",
    "\n",
    "1) \n",
    "$$\n",
    "\\lim_{x \\to \\infty} \\frac{\\sin x}{x} = \\lim_{x \\to \\infty} \\sin x \\ast \\frac{1}{x} = 0\n",
    "$$\n",
    "\n",
    "2) \n",
    "$$\n",
    "\\lim_{x \\to 2} (x - 2) \\sin \\frac{1}{x - 2} = \\lim_{u \\to \\infty} \\frac{\\sin u}{u} = 0\n",
    "$$\n"
   ]
  },
  {
   "cell_type": "markdown",
   "metadata": {},
   "source": [
    "### Three special cases\n",
    "\n",
    "**Factorization**   \n",
    "  \n",
    "1) \n",
    "\n",
    "$$\n",
    "\\lim_{x \\to 1} \\frac{x - 1}{x^2 - 1} = \\lim_{x \\to 1} \\frac{1}{x + 1} = \\frac{1}{2}\n",
    "$$\n",
    "\n",
    "2) \n",
    "\n",
    "$$\n",
    "\\lim_{x \\to 4} \\frac{x - 4}{\\sqrt{x + 5} - 3} = \\lim_{x \\to 4} \\frac{\\sqrt{x + 5} + 3}{x + 5 - 9} = \\lim_{x \\to 4} \\sqrt{x + 5} + 3 = 6\n",
    "$$\n"
   ]
  },
  {
   "cell_type": "markdown",
   "metadata": {},
   "source": [
    "**Rationalization of numerator and denominator**   \n",
    "\n",
    "$$\n",
    "\\lim_{x \\to 4} \\frac{x - 4}{\\sqrt{x + 5} - 3} = \\lim_{x \\to 4} \\frac{(x - 4)(\\sqrt{x + 5} + 3)}{(\\sqrt{x + 5} - 3)(\\sqrt{x + 5} + 3)}\n",
    "$$"
   ]
  },
  {
   "cell_type": "markdown",
   "metadata": {},
   "source": [
    "**Get the highest order $x\\to \\infty$**    \n",
    "\n",
    "1) \n",
    "\n",
    "$$\n",
    "\\lim_{x \\to \\infty} \\frac{2x^3 + 3x^2 + 5}{7x^3 + 4x^2 - 1} = \\frac{2}{7}\n",
    "$$\n",
    "\n",
    "2) \n",
    "\n",
    "$$\n",
    "\\lim_{x \\to \\infty} \\frac{3x^2 + 5}{7x^3 + 4x^2 - 1} = 0\n",
    "$$\n",
    "\n",
    "3) \n",
    "\n",
    "$$\n",
    "\\lim_{x \\to \\infty} \\frac{2x^3 + 3x^2 + 5}{4x^2 - 1} = \\infty\n",
    "$$"
   ]
  },
  {
   "cell_type": "markdown",
   "metadata": {},
   "source": [
    "## Two important limit    \n",
    "\n",
    "i. $\\lim_{u(x) \\to 0} \\frac{\\sin u(x)}{u(x)} = 1$\n",
    "\n",
    "1) Prove using the definition of differential\n",
    "\n",
    "   a) $\\lim_{x \\to 0} \\sin x = x$\n",
    "\n",
    "   $$\n",
    "   f'(x) = \\frac{f(x + \\delta) - f(x)}{\\delta} \\to f(x + \\delta) = f(x) + f'(x) \\ast \\delta, \\text{ when } \\delta \\to 0\n",
    "   $$\n",
    "\n",
    "   $\\sin (x + \\delta) \\approx \\sin x + \\cos x \\ast \\delta$ when $\\delta \\to 0$\n",
    "\n",
    "   $\\sin \\delta \\approx 0 + \\delta$, when $\\delta \\to 0$\n",
    "\n",
    "   Replace $\\delta$ with $x$, $\\lim_{x \\to 0} \\sin x = x$\n",
    "\n",
    "ii. $\\lim_{A \\to \\infty} \\left(1 + \\frac{1}{A}\\right)^A = e$\n",
    "\n",
    "1) Prove using Taylor's Formula\n",
    "\n",
    "   $$\n",
    "   e < \\left(1 + \\frac{1}{k}\\right)^k = 1 + \\frac{k}{1} \\left(\\frac{1}{k}\\right)^1 + \\frac{k(k - 1)}{1 \\cdot 2} \\left(\\frac{1}{k}\\right)^2 + \\frac{k(k - 1)(k - 2)}{1 \\cdot 2 \\cdot 3} \\left(\\frac{1}{k}\\right)^3 + \\cdots\n",
    "   $$\n",
    "\n",
    "   a) \n",
    "   \n",
    "   $$\n",
    "   e = 1 + \\frac{1}{2!} + \\frac{1}{3!} + \\cdots = e\n",
    "   $$\n",
    "\n",
    "2) $\\lim_{x \\to \\infty} \\left(1 - \\frac{2}{x}\\right)^x = e^{-2} = \\frac{1}{e^2}$\n",
    "\n",
    "3) $\\lim_{x \\to 0} (1 - 2x)^{\\frac{1}{x}} = e^{-2}$\n",
    "\n",
    "4) $\\lim_{x \\to \\infty} \\left(1 + \\frac{1}{n}\\right)^{n+3} = e$\n"
   ]
  },
  {
   "cell_type": "markdown",
   "metadata": {},
   "source": [
    "## Equivalence of infinity small   \n",
    "  \n",
    "i. $\\lim_{x \\to 0} \\frac{\\sin x}{x} = 1 \\to \\sin x \\sim x \\ (\\text{when } x \\to 0)$\n",
    "\n",
    "ii. $1 - \\cos x \\sim \\frac{1}{2} x^2$\n",
    "\n",
    "1) Prove: $\\lim_{x \\to 0} \\frac{1 - \\cos x}{\\frac{1}{2}x^2} = \\frac{\\sin x}{x} = 1$\n",
    "\n",
    "iii. $\\ln(1 + x) \\sim x$\n",
    "\n",
    "1) Prove: $\\ln(1 + x + \\delta) = \\ln(1 + x) + \\frac{\\delta}{1 + x} = \\ln 1 + \\delta \\to \\ln(1 + \\delta) \\approx \\delta \\text{ when } \\delta \\to 0 \\text{ and } x = 0$\n",
    "\n",
    "2) $\\lim_{x \\to 0} \\frac{\\ln(1 + x)}{\\sin 3x} = \\frac{2x}{3x} = \\frac{2}{3}$\n",
    "\n",
    "iv. $e^x - 1 \\sim x$\n",
    "\n",
    "v. $(1 + x)^\\alpha = 1 + \\alpha x$\n",
    "\n",
    "1) Prove: $(1 + x + \\delta)^\\alpha = (1 + x)^\\alpha + (\\alpha \\delta)(1 + x)^{\\alpha - 1} \\to (1 + \\delta)^\\alpha = 1 + \\alpha \\delta \\text{ when } \\delta \\to 0 \\text{ and } x = 0$\n"
   ]
  },
  {
   "cell_type": "markdown",
   "metadata": {},
   "source": [
    "## Continuous\n",
    "### Continuous in functions\n",
    "\n",
    "1. $f(x)$ has a definition at $x_0$\n",
    "\n",
    "2. $\\lim_{x \\to x_0} f(x) = f(x_0)$"
   ]
  },
  {
   "cell_type": "markdown",
   "metadata": {},
   "source": [
    "### Example\n",
    "$f(x) = \n",
    "\\begin{cases} \n",
    "x^2 + 2a, & x \\leq 0, \\\\ \n",
    "\\frac{\\sin x}{2x}, & x > 0 \n",
    "\\end{cases}$\n",
    "\n",
    "is continuous at $x = 0$, what's the value of $a$?\n",
    "\n",
    "**Answer**\n",
    "\n",
    "$\\lim_{x \\to 0} (x^2 + 2a) = 2a$, $\\lim_{x \\to 0} \\frac{\\sin x}{2x} = \\frac{1}{2} = 2a \\to a = \\frac{1}{4}$"
   ]
  },
  {
   "cell_type": "markdown",
   "metadata": {},
   "source": [
    "## The break points of functions\n",
    "\n",
    "1. The point with invalid definition\n",
    "\n",
    "2. **The point with no limits**\n",
    "\n",
    "   a. $x = 3$ for $f(x) = \\frac{x^2 + 1}{x - 3}$, with limit $= \\infty$\n",
    "\n",
    "3. The point with limit that does not equal to its function value\n"
   ]
  },
  {
   "cell_type": "markdown",
   "metadata": {},
   "source": [
    "## The Intermediate Value Theorem\n",
    "\n",
    "If $f(x)$ is **continuous on the closed interval** $[a, b]$ and $k$ is any number between $f(a)$ and $f(b)$, then there exists at least one value $c$ in the interval $(a, b)$ such that $f(c) = k$.\n",
    "\n",
    "a. Prove there is a solution of $x^3 - 4x^2 + 1 = 0$ on the interval $(0,1)$.\n",
    "\n",
    "![image.png](./assets/01.png)"
   ]
  }
 ],
 "metadata": {
  "kernelspec": {
   "display_name": "Python 3 (ipykernel)",
   "language": "python",
   "name": "python3"
  },
  "language_info": {
   "codemirror_mode": {
    "name": "ipython",
    "version": 3
   },
   "file_extension": ".py",
   "mimetype": "text/x-python",
   "name": "python",
   "nbconvert_exporter": "python",
   "pygments_lexer": "ipython3",
   "version": "3.10.9"
  }
 },
 "nbformat": 4,
 "nbformat_minor": 4
}
