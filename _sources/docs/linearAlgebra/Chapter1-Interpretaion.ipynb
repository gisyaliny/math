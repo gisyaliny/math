{
 "cells": [
  {
   "cell_type": "markdown",
   "metadata": {},
   "source": [
    "# Matrix Interpretation"
   ]
  },
  {
   "cell_type": "markdown",
   "metadata": {},
   "source": [
    "## Interpretation of equation sets\n",
    "- Suppose we have the following equation sets    \n",
    "\n",
    "![image.png](./assets/01.png)"
   ]
  },
  {
   "cell_type": "markdown",
   "metadata": {},
   "source": [
    "### Row Picture\n",
    "- Hard to draw when dimensions goes beyond 2\n",
    "\n",
    "![image.png](./assets/02.png)"
   ]
  },
  {
   "cell_type": "markdown",
   "metadata": {},
   "source": [
    "### Column Picture\n",
    "- Linear Combination of Columns   \n",
    "\n",
    "    ![image.png](./assets/03.png)\n",
    "\n",
    "    ![image.png](./assets/04.png)\n",
    "\n",
    "    ![image.png](./assets/05.png)\n",
    "\n",
    "    ![image.png](./assets/06.png)"
   ]
  },
  {
   "cell_type": "markdown",
   "metadata": {},
   "source": [
    "### Quiz\n",
    "\n",
    "**Q: Can I solve $ Av = b $ for every $ b $? (means, Do the linear combination of the columns fill 3D space?)**\n",
    "\n",
    "**My Answer:** Yes, if vectors in $ A $ are not parallel, then they can be the basis for 3D space.\n",
    "\n",
    "**Professor's Answer:** If those three vectors lie within the same plane (which means you can get one vector from the linear combination of the other two vectors), then they can only form a plane instead of a 3D space.\n",
    "\n"
   ]
  },
  {
   "cell_type": "markdown",
   "metadata": {},
   "source": [
    "## Elimination\n",
    "- A systematic way to solve the solution\n",
    "\n",
    "### Upper triangular matrix\n",
    "The most important purpose in elimination is from $A→U$(upper triangular matrix )    \n",
    "\n",
    "### Augmented matrix\n",
    "- Add y (response) into the x's (parameters') matrix\n",
    "\n",
    "**Method of Gaussian Elimination 3x3 Example**\n",
    "\n",
    "Given the system of equations:\n",
    "\n",
    "$$\n",
    "\\begin{align*}\n",
    "4x - 3y + z &= -8 \\\\\n",
    "-2x + y - 3z &= -4 \\\\\n",
    "x - y + 2z &= 3\n",
    "\\end{align*}\n",
    "$$\n",
    "\n",
    "  1. We start with the augmented matrix:\n",
    "\n",
    "$$\n",
    "  \\begin{bmatrix}\n",
    "  4 & -3 & 1 & | & -8 \\\\\n",
    "  -2 & 1 & -3 & | & -4 \\\\\n",
    "  1 & -1 & 2 & | & 3\n",
    "  \\end{bmatrix}\n",
    "$$\n",
    "\n",
    "  2. Perform row operations to reduce to the row echelon form:\n",
    "\n",
    "$$\n",
    "  \\begin{bmatrix}\n",
    "  1 & -1 & 2 & | & 3 \\\\\n",
    "  0 & -1 & 2 & | & 3 \\\\\n",
    "  0 & 1 & -7 & | & -20\n",
    "  \\end{bmatrix}\n",
    "$$\n",
    "\n",
    "  3. Further reducing to:\n",
    "\n",
    "$$\n",
    "  \\begin{bmatrix}\n",
    "  1 & 0 & 0 & | & -2 \\\\\n",
    "  0 & 1 & 0 & | & 1 \\\\\n",
    "  0 & 0 & 1 & | & 3\n",
    "  \\end{bmatrix}\n",
    "$$\n",
    "\n",
    "  4. This yields the solution:\n",
    "$$\n",
    "  \\begin{align*}\n",
    "  x &= 2 \\\\\n",
    "  y &= 1 \\\\\n",
    "  z &= 3\n",
    "  \\end{align*}\n",
    "$$\n",
    "\n",
    "### Failure of Elimination   \n",
    "- Some pivot become 0, which means there are some vectors are parallel(dependent) to each other\n",
    "\n",
    "\n",
    "### Elimination matrix\n",
    "- Use matrix to represent the elimination steps   \n",
    "$$\n",
    "\\begin{align*}\n",
    "E_{32}(E_{21}A) = (E_{32} \\cdot E_{21})A = U \\text{ (Associative law)}\n",
    "\\end{align*}\n",
    "$$\n",
    "\n",
    "- $E_{21}$ means elimination row 1 using row 2\n",
    "\n",
    "Again, **matrix \\* vector = the combination of the columns of the matrix**, therefore, matrix \\* column = column, matrix \\* row = row.\n"
   ]
  },
  {
   "cell_type": "markdown",
   "metadata": {},
   "source": [
    "### Permutation matrix $P$\n",
    "- Exchange the row   \n",
    "\n",
    "Exchange row 2 and row 1 $ \\begin{bmatrix} 0 & 1 \\\\ 1 & 0 \\end{bmatrix} $, example:\n",
    "\n",
    "$$\n",
    "\\begin{bmatrix} 0 & 1 \\\\ 1 & 0 \\end{bmatrix} \n",
    "\\begin{bmatrix} a & b \\\\ c & d \\end{bmatrix} \n",
    "= \n",
    "\\begin{bmatrix} c & d \\\\ a & b \\end{bmatrix} \\quad (\\text{row operation})\n",
    "$$\n",
    "\n",
    "Exchange column 2 and column 1, example:\n",
    "\n",
    "$$\n",
    "\\begin{bmatrix} a & b \\\\ c & d \\end{bmatrix} \n",
    "\\begin{bmatrix} 0 & 1 \\\\ 1 & 0 \\end{bmatrix} \n",
    "= \n",
    "\\begin{bmatrix} b & a \\\\ d & c \\end{bmatrix} \\quad (\\text{column operation})\n",
    "$$\n",
    "\n"
   ]
  },
  {
   "cell_type": "markdown",
   "metadata": {},
   "source": [
    "### Inverse Matrix\n",
    "- How we can reversing steps and transfer matrix from $U \\to A$? (Inverse Matrix)   \n",
    "\n",
    "$$\n",
    "\\begin{bmatrix} 1 & 0 & 0 \\\\ 3 & 1 & 0 \\\\ 0 & 0 & 1 \\end{bmatrix} \n",
    "\\begin{bmatrix} 1 & 0 & 0 \\\\ -3 & 1 & 0 \\\\ 0 & 0 & 1 \\end{bmatrix} \n",
    "= \n",
    "\\begin{bmatrix} 1 & 0 & 0 \\\\ 0 & 1 & 0 \\\\ 0 & 0 & 1 \\end{bmatrix}\n",
    "$$\n",
    "\n",
    "- \n",
    "  $\\begin{bmatrix} 1 & 0 & 0 \\\\ -3 & 1 & 0 \\\\ 0 & 0 & 1 \\end{bmatrix}$ means subtract $3 \\times \\text{row1}$ from row2. If we want to reverse the operation, we just need to add $3 \\times \\text{row1}$ to row2. That's why we could easily calculate the inverse matrix.\n"
   ]
  },
  {
   "cell_type": "markdown",
   "metadata": {},
   "source": [
    "### Quiz\n",
    "**Linear Algebra #2**\n",
    "\n",
    "- Consider a linear equations\n",
    "\n",
    "$$\n",
    "\\begin{cases}\n",
    "2x + 2y + 3z = 3 \\\\\n",
    "x - y = 2 \\\\\n",
    "-x + 2y + z = 1\n",
    "\\end{cases} \\quad \\cdots \\cdots \\cdots \\text{(1)}\n",
    "$$\n",
    "\n",
    "- Transform a matrix $ A = \\begin{pmatrix} 2 & 2 & 3 \\\\ 1 & -1 & 0 \\\\ -1 & 2 & 1 \\end{pmatrix} $ to an upper triangular matrix $ \\begin{pmatrix} a_{11} & a_{12} & a_{13} \\\\ 0 & a_{22} & a_{23} \\\\ 0 & 0 & a_{33} \\end{pmatrix}.$\n",
    "\n"
   ]
  },
  {
   "cell_type": "markdown",
   "metadata": {},
   "source": [
    "\n",
    "$$\n",
    "\\begin{bmatrix} \n",
    "1 & 0 & 0 \\\\ \n",
    "-0.5 & 1 & 0 \\\\ \n",
    "-0.25 & 1.5 & 1 \n",
    "\\end{bmatrix} \n",
    "\\begin{bmatrix} \n",
    "2 & 2 & 3 \\\\ \n",
    "1 & -1 & 0 \\\\ \n",
    "-1 & 2 & 1 \n",
    "\\end{bmatrix} \n",
    "= \n",
    "\\begin{bmatrix} \n",
    "2 & 2 & 3 \\\\ \n",
    "0 & -2 & -\\frac{3}{2} \\\\ \n",
    "0 & 0 & \\frac{1}{4} \n",
    "\\end{bmatrix}\n",
    "$$\n"
   ]
  },
  {
   "cell_type": "markdown",
   "metadata": {},
   "source": [
    "## Yalin Conclusion\n",
    "### Row interpretation is suitable for first matrix, column interpretation is for second matrix **[行前列后]**\n",
    "* $E_{row operation}*A=U$\n",
    "* $A*E_{column operation} = U$"
   ]
  },
  {
   "cell_type": "markdown",
   "metadata": {},
   "source": [
    "## The meaning of Matrix pre-multiplication(矩阵左乘)\n",
    "1. \n",
    "   $$\n",
    "   \\begin{bmatrix} 1 & 0 \\\\ 0 & 1 \\end{bmatrix} \n",
    "   \\begin{bmatrix} x_1 \\\\ x_2 \\end{bmatrix} \n",
    "   = \n",
    "   \\begin{bmatrix} x_1 \\\\ x_2 \\end{bmatrix},\n",
    "   $$\n",
    "   \n",
    "   we can get that, in a plane with basis $(1,0)$, $(0,1)$, the vector $(x_1, x_2)$ remains the same.\n",
    "\n",
    "2. According to this, we can say \n",
    "\n",
    "   $$\n",
    "   \\begin{bmatrix} a_{11} & a_{12} \\\\ a_{21} & a_{22} \\end{bmatrix} \n",
    "   \\begin{bmatrix} x_1 \\\\ x_2 \\end{bmatrix} \n",
    "   = \n",
    "   \\begin{bmatrix} b_1 \\\\ b_2 \\end{bmatrix}\n",
    "   $$\n",
    "\n",
    "   indicates, after changing the plane basis from $(1,0)$, $(0,1)$ to $(a_{11}, a_{21})$, $(a_{12}, a_{22})$, the coordinate of vector $(x_1, x_2)$ becomes $(b_1, b_2)$.\n",
    "\n",
    "3. Therefore, **the matrix pre-multiplication is actually changing the basis**.\n"
   ]
  }
 ],
 "metadata": {
  "kernelspec": {
   "display_name": "Python 3 (ipykernel)",
   "language": "python",
   "name": "python3"
  },
  "language_info": {
   "codemirror_mode": {
    "name": "ipython",
    "version": 3
   },
   "file_extension": ".py",
   "mimetype": "text/x-python",
   "name": "python",
   "nbconvert_exporter": "python",
   "pygments_lexer": "ipython3",
   "version": "3.10.9"
  }
 },
 "nbformat": 4,
 "nbformat_minor": 4
}
